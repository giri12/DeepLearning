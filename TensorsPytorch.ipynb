{
 "cells": [
  {
   "cell_type": "code",
   "execution_count": 10,
   "metadata": {},
   "outputs": [
    {
     "data": {
      "text/plain": [
       "2"
      ]
     },
     "execution_count": 10,
     "metadata": {},
     "output_type": "execute_result"
    }
   ],
   "source": [
    "1 + 1"
   ]
  },
  {
   "cell_type": "code",
   "execution_count": 11,
   "metadata": {},
   "outputs": [],
   "source": [
    "import torch"
   ]
  },
  {
   "cell_type": "code",
   "execution_count": 12,
   "metadata": {},
   "outputs": [],
   "source": [
    "import torch.distributions as dist"
   ]
  },
  {
   "cell_type": "code",
   "execution_count": 13,
   "metadata": {},
   "outputs": [],
   "source": [
    "bernoulli = dist.Bernoulli(torch.tensor([0.5]))"
   ]
  },
  {
   "cell_type": "code",
   "execution_count": 14,
   "metadata": {},
   "outputs": [
    {
     "name": "stdout",
     "output_type": "stream",
     "text": [
      "tensor([0.])\n"
     ]
    }
   ],
   "source": [
    "print(bernoulli.sample())"
   ]
  },
  {
   "cell_type": "code",
   "execution_count": 15,
   "metadata": {},
   "outputs": [],
   "source": [
    "normal = dist.Normal(torch.tensor([0.0]), torch.tensor([1.0]))"
   ]
  },
  {
   "cell_type": "code",
   "execution_count": 16,
   "metadata": {},
   "outputs": [
    {
     "name": "stdout",
     "output_type": "stream",
     "text": [
      "tensor([-0.5950])\n"
     ]
    }
   ],
   "source": [
    "print(normal.sample())"
   ]
  },
  {
   "cell_type": "code",
   "execution_count": 17,
   "metadata": {},
   "outputs": [
    {
     "name": "stdout",
     "output_type": "stream",
     "text": [
      "tensor([0.9377])\n",
      "tensor([-1.6415])\n",
      "tensor([0.0109])\n",
      "tensor([-0.1305])\n",
      "tensor([0.4112])\n",
      "tensor([-0.3524])\n",
      "tensor([-0.3072])\n",
      "tensor([-0.4122])\n",
      "tensor([-0.9826])\n",
      "tensor([0.6418])\n"
     ]
    }
   ],
   "source": [
    "for _ in range(10):\n",
    "    print(normal.sample())"
   ]
  },
  {
   "cell_type": "code",
   "execution_count": 18,
   "metadata": {},
   "outputs": [
    {
     "data": {
      "text/plain": [
       "tensor([0., 0., 0., 0., 0.])"
      ]
     },
     "execution_count": 18,
     "metadata": {},
     "output_type": "execute_result"
    }
   ],
   "source": [
    "tens01 = torch.zeros(5)\n",
    "tens01"
   ]
  },
  {
   "cell_type": "code",
   "execution_count": 19,
   "metadata": {},
   "outputs": [
    {
     "data": {
      "text/plain": [
       "tensor([1., 1., 1., 1., 1.])"
      ]
     },
     "execution_count": 19,
     "metadata": {},
     "output_type": "execute_result"
    }
   ],
   "source": [
    "tens02 = torch.ones(5)\n",
    "tens02"
   ]
  },
  {
   "cell_type": "code",
   "execution_count": 20,
   "metadata": {},
   "outputs": [
    {
     "data": {
      "text/plain": [
       "tensor([0.5883, 0.6607, 0.8592, 0.9520, 0.8271])"
      ]
     },
     "execution_count": 20,
     "metadata": {},
     "output_type": "execute_result"
    }
   ],
   "source": [
    "tens03 = torch.rand(5)\n",
    "tens03"
   ]
  },
  {
   "cell_type": "code",
   "execution_count": 21,
   "metadata": {},
   "outputs": [
    {
     "data": {
      "text/plain": [
       "tensor([[0.3296, 0.7726, 0.1612, 0.1193],\n",
       "        [0.2952, 0.0316, 0.1167, 0.8351],\n",
       "        [0.6014, 0.1781, 0.2489, 0.6977],\n",
       "        [0.9652, 0.5266, 0.6623, 0.7642],\n",
       "        [0.4070, 0.3332, 0.8123, 0.8646]])"
      ]
     },
     "execution_count": 21,
     "metadata": {},
     "output_type": "execute_result"
    }
   ],
   "source": [
    "tens04 = torch.rand(5,4)\n",
    "tens04"
   ]
  },
  {
   "cell_type": "code",
   "execution_count": 22,
   "metadata": {},
   "outputs": [
    {
     "data": {
      "text/plain": [
       "tensor([[[0.3296, 0.7726],\n",
       "         [0.1612, 0.1193]],\n",
       "\n",
       "        [[0.2952, 0.0316],\n",
       "         [0.1167, 0.8351]],\n",
       "\n",
       "        [[0.6014, 0.1781],\n",
       "         [0.2489, 0.6977]],\n",
       "\n",
       "        [[0.9652, 0.5266],\n",
       "         [0.6623, 0.7642]],\n",
       "\n",
       "        [[0.4070, 0.3332],\n",
       "         [0.8123, 0.8646]]])"
      ]
     },
     "execution_count": 22,
     "metadata": {},
     "output_type": "execute_result"
    }
   ],
   "source": [
    "tens04.view(5,2,2)"
   ]
  },
  {
   "cell_type": "code",
   "execution_count": 23,
   "metadata": {},
   "outputs": [
    {
     "data": {
      "text/plain": [
       "tensor([[0.3296, 0.7726, 0.1612, 0.1193],\n",
       "        [0.2952, 0.0316, 0.1167, 0.8351],\n",
       "        [0.6014, 0.1781, 0.2489, 0.6977],\n",
       "        [0.9652, 0.5266, 0.6623, 0.7642],\n",
       "        [0.4070, 0.3332, 0.8123, 0.8646]])"
      ]
     },
     "execution_count": 23,
     "metadata": {},
     "output_type": "execute_result"
    }
   ],
   "source": [
    "tens04"
   ]
  },
  {
   "cell_type": "code",
   "execution_count": 24,
   "metadata": {},
   "outputs": [],
   "source": [
    "tens05 = tens04"
   ]
  },
  {
   "cell_type": "code",
   "execution_count": 25,
   "metadata": {},
   "outputs": [
    {
     "data": {
      "text/plain": [
       "tensor([[0.3296, 0.7726, 0.1612, 0.1193],\n",
       "        [0.2952, 0.0316, 0.1167, 0.8351],\n",
       "        [0.6014, 0.1781, 0.2489, 0.6977],\n",
       "        [0.9652, 0.5266, 0.6623, 0.7642],\n",
       "        [0.4070, 0.3332, 0.8123, 0.8646]])"
      ]
     },
     "execution_count": 25,
     "metadata": {},
     "output_type": "execute_result"
    }
   ],
   "source": [
    "tens05"
   ]
  },
  {
   "cell_type": "code",
   "execution_count": 26,
   "metadata": {},
   "outputs": [
    {
     "data": {
      "text/plain": [
       "tensor([[[0.3296, 0.7726],\n",
       "         [0.1612, 0.1193]],\n",
       "\n",
       "        [[0.2952, 0.0316],\n",
       "         [0.1167, 0.8351]],\n",
       "\n",
       "        [[0.6014, 0.1781],\n",
       "         [0.2489, 0.6977]],\n",
       "\n",
       "        [[0.9652, 0.5266],\n",
       "         [0.6623, 0.7642]],\n",
       "\n",
       "        [[0.4070, 0.3332],\n",
       "         [0.8123, 0.8646]]])"
      ]
     },
     "execution_count": 26,
     "metadata": {},
     "output_type": "execute_result"
    }
   ],
   "source": [
    "tens06 = tens05.reshape(5,2,2)\n",
    "tens06"
   ]
  },
  {
   "cell_type": "code",
   "execution_count": 27,
   "metadata": {},
   "outputs": [
    {
     "data": {
      "text/plain": [
       "tensor([[[0.3296, 0.7726],\n",
       "         [0.1612, 0.1193]],\n",
       "\n",
       "        [[0.2952, 0.0316],\n",
       "         [0.1167, 0.8351]],\n",
       "\n",
       "        [[0.6014, 0.1781],\n",
       "         [0.2489, 0.6977]],\n",
       "\n",
       "        [[0.9652, 0.5266],\n",
       "         [0.6623, 0.7642]],\n",
       "\n",
       "        [[0.4070, 0.3332],\n",
       "         [0.8123, 0.8646]]])"
      ]
     },
     "execution_count": 27,
     "metadata": {},
     "output_type": "execute_result"
    }
   ],
   "source": [
    "tens07 = tens05.view(5,2,2)\n",
    "tens07"
   ]
  },
  {
   "cell_type": "code",
   "execution_count": 28,
   "metadata": {},
   "outputs": [
    {
     "data": {
      "text/plain": [
       "tensor([[0.3296, 0.7726, 0.1612, 0.1193],\n",
       "        [0.2952, 0.0316, 0.1167, 0.8351],\n",
       "        [0.6014, 0.1781, 0.2489, 0.6977],\n",
       "        [0.9652, 0.5266, 0.6623, 0.7642],\n",
       "        [0.4070, 0.3332, 0.8123, 0.8646]])"
      ]
     },
     "execution_count": 28,
     "metadata": {},
     "output_type": "execute_result"
    }
   ],
   "source": [
    "tens05"
   ]
  },
  {
   "cell_type": "code",
   "execution_count": 29,
   "metadata": {},
   "outputs": [
    {
     "name": "stdout",
     "output_type": "stream",
     "text": [
      "2\n",
      "3\n",
      "torch.float32\n",
      "torch.float32\n"
     ]
    }
   ],
   "source": [
    "print(tens05.ndim)\n",
    "print(tens07.ndim)\n",
    "print(tens05.dtype)\n",
    "print(tens07.dtype)"
   ]
  },
  {
   "cell_type": "code",
   "execution_count": 30,
   "metadata": {},
   "outputs": [
    {
     "data": {
      "text/plain": [
       "tensor([[[ 74,  90, 126],\n",
       "         [ 73,  89, 125],\n",
       "         [ 74,  90, 126],\n",
       "         ...,\n",
       "         [ 69,  72,  51],\n",
       "         [ 71,  74,  55],\n",
       "         [ 76,  79,  60]],\n",
       "\n",
       "        [[ 73,  89, 125],\n",
       "         [ 73,  89, 125],\n",
       "         [ 75,  91, 127],\n",
       "         ...,\n",
       "         [ 74,  77,  56],\n",
       "         [ 79,  82,  63],\n",
       "         [ 81,  84,  65]],\n",
       "\n",
       "        [[ 75,  91, 127],\n",
       "         [ 74,  90, 126],\n",
       "         [ 76,  92, 128],\n",
       "         ...,\n",
       "         [ 81,  84,  63],\n",
       "         [ 79,  82,  63],\n",
       "         [ 79,  82,  63]],\n",
       "\n",
       "        ...,\n",
       "\n",
       "        [[ 73,  88, 131],\n",
       "         [ 69,  84, 127],\n",
       "         [ 70,  85, 128],\n",
       "         ...,\n",
       "         [123, 128, 106],\n",
       "         [128, 133, 113],\n",
       "         [129, 134, 114]],\n",
       "\n",
       "        [[ 73,  88, 131],\n",
       "         [ 70,  85, 128],\n",
       "         [ 68,  83, 126],\n",
       "         ...,\n",
       "         [121, 126, 104],\n",
       "         [131, 136, 114],\n",
       "         [132, 137, 115]],\n",
       "\n",
       "        [[ 78,  93, 136],\n",
       "         [ 75,  90, 133],\n",
       "         [ 68,  83, 126],\n",
       "         ...,\n",
       "         [127, 132, 110],\n",
       "         [127, 132, 109],\n",
       "         [128, 133, 110]]], dtype=torch.uint8)"
      ]
     },
     "execution_count": 30,
     "metadata": {},
     "output_type": "execute_result"
    }
   ],
   "source": [
    "from PIL import Image\n",
    "import torch\n",
    "import numpy as np \n",
    "cat01 = np.array(Image.open('cat.jpg'))\n",
    "cat01 = torch.as_tensor(cat01)\n",
    "cat01"
   ]
  },
  {
   "cell_type": "code",
   "execution_count": 31,
   "metadata": {},
   "outputs": [
    {
     "data": {
      "text/plain": [
       "torch.Size([1927, 2370, 3])"
      ]
     },
     "execution_count": 31,
     "metadata": {},
     "output_type": "execute_result"
    }
   ],
   "source": [
    "cat01.shape"
   ]
  },
  {
   "cell_type": "code",
   "execution_count": 32,
   "metadata": {},
   "outputs": [
    {
     "data": {
      "text/plain": [
       "3"
      ]
     },
     "execution_count": 32,
     "metadata": {},
     "output_type": "execute_result"
    }
   ],
   "source": [
    "cat01.ndim"
   ]
  },
  {
   "cell_type": "code",
   "execution_count": 33,
   "metadata": {},
   "outputs": [
    {
     "data": {
      "text/plain": [
       "tensor([0., 0., 0., 0., 0.])"
      ]
     },
     "execution_count": 33,
     "metadata": {},
     "output_type": "execute_result"
    }
   ],
   "source": [
    "tens01"
   ]
  },
  {
   "cell_type": "code",
   "execution_count": 34,
   "metadata": {},
   "outputs": [
    {
     "data": {
      "text/plain": [
       "tensor([1., 1., 1., 1., 1.])"
      ]
     },
     "execution_count": 34,
     "metadata": {},
     "output_type": "execute_result"
    }
   ],
   "source": [
    "tens02"
   ]
  },
  {
   "cell_type": "code",
   "execution_count": 36,
   "metadata": {},
   "outputs": [
    {
     "data": {
      "text/plain": [
       "tensor([2., 2., 2., 2., 2.])"
      ]
     },
     "execution_count": 36,
     "metadata": {},
     "output_type": "execute_result"
    }
   ],
   "source": [
    "tens01 + 2* tens02"
   ]
  },
  {
   "cell_type": "code",
   "execution_count": 37,
   "metadata": {},
   "outputs": [],
   "source": [
    "a = torch.rand(1_000_000)\n",
    "b = torch.rand(1_000_000)\n",
    "c = a + b"
   ]
  },
  {
   "cell_type": "code",
   "execution_count": 38,
   "metadata": {},
   "outputs": [
    {
     "data": {
      "text/plain": [
       "tensor([0.8300, 1.2928, 0.9869,  ..., 0.7091, 1.2111, 0.9187])"
      ]
     },
     "execution_count": 38,
     "metadata": {},
     "output_type": "execute_result"
    }
   ],
   "source": [
    "c"
   ]
  },
  {
   "cell_type": "code",
   "execution_count": 39,
   "metadata": {},
   "outputs": [
    {
     "name": "stdout",
     "output_type": "stream",
     "text": [
      "874 µs ± 197 µs per loop (mean ± std. dev. of 7 runs, 1000 loops each)\n"
     ]
    }
   ],
   "source": [
    "%timeit c = a + b"
   ]
  },
  {
   "cell_type": "code",
   "execution_count": 40,
   "metadata": {},
   "outputs": [
    {
     "ename": "RuntimeError",
     "evalue": "Found no NVIDIA driver on your system. Please check that you have an NVIDIA GPU and installed a driver from http://www.nvidia.com/Download/index.aspx",
     "output_type": "error",
     "traceback": [
      "\u001b[0;31m---------------------------------------------------------------------------\u001b[0m",
      "\u001b[0;31mRuntimeError\u001b[0m                              Traceback (most recent call last)",
      "\u001b[0;32m/tmp/ipykernel_918/3924999024.py\u001b[0m in \u001b[0;36m<cell line: 1>\u001b[0;34m()\u001b[0m\n\u001b[0;32m----> 1\u001b[0;31m \u001b[0ma_gpu\u001b[0m \u001b[0;34m=\u001b[0m \u001b[0ma\u001b[0m\u001b[0;34m.\u001b[0m\u001b[0mto\u001b[0m\u001b[0;34m(\u001b[0m\u001b[0;34m'cuda'\u001b[0m\u001b[0;34m)\u001b[0m\u001b[0;34m\u001b[0m\u001b[0;34m\u001b[0m\u001b[0m\n\u001b[0m\u001b[1;32m      2\u001b[0m \u001b[0mb_gpu\u001b[0m \u001b[0;34m=\u001b[0m \u001b[0mb\u001b[0m\u001b[0;34m.\u001b[0m\u001b[0mto\u001b[0m\u001b[0;34m(\u001b[0m\u001b[0;34m'cuda'\u001b[0m\u001b[0;34m)\u001b[0m\u001b[0;34m\u001b[0m\u001b[0;34m\u001b[0m\u001b[0m\n",
      "\u001b[0;32m/usr/local/lib/python3.8/dist-packages/torch/cuda/__init__.py\u001b[0m in \u001b[0;36m_lazy_init\u001b[0;34m()\u001b[0m\n\u001b[1;32m    245\u001b[0m         \u001b[0;32mif\u001b[0m \u001b[0;34m'CUDA_MODULE_LOADING'\u001b[0m \u001b[0;32mnot\u001b[0m \u001b[0;32min\u001b[0m \u001b[0mos\u001b[0m\u001b[0;34m.\u001b[0m\u001b[0menviron\u001b[0m\u001b[0;34m:\u001b[0m\u001b[0;34m\u001b[0m\u001b[0;34m\u001b[0m\u001b[0m\n\u001b[1;32m    246\u001b[0m             \u001b[0mos\u001b[0m\u001b[0;34m.\u001b[0m\u001b[0menviron\u001b[0m\u001b[0;34m[\u001b[0m\u001b[0;34m'CUDA_MODULE_LOADING'\u001b[0m\u001b[0;34m]\u001b[0m \u001b[0;34m=\u001b[0m \u001b[0;34m'LAZY'\u001b[0m\u001b[0;34m\u001b[0m\u001b[0;34m\u001b[0m\u001b[0m\n\u001b[0;32m--> 247\u001b[0;31m         \u001b[0mtorch\u001b[0m\u001b[0;34m.\u001b[0m\u001b[0m_C\u001b[0m\u001b[0;34m.\u001b[0m\u001b[0m_cuda_init\u001b[0m\u001b[0;34m(\u001b[0m\u001b[0;34m)\u001b[0m\u001b[0;34m\u001b[0m\u001b[0;34m\u001b[0m\u001b[0m\n\u001b[0m\u001b[1;32m    248\u001b[0m         \u001b[0;31m# Some of the queued calls may reentrantly call _lazy_init();\u001b[0m\u001b[0;34m\u001b[0m\u001b[0;34m\u001b[0m\u001b[0;34m\u001b[0m\u001b[0m\n\u001b[1;32m    249\u001b[0m         \u001b[0;31m# we need to just return without initializing in that case.\u001b[0m\u001b[0;34m\u001b[0m\u001b[0;34m\u001b[0m\u001b[0;34m\u001b[0m\u001b[0m\n",
      "\u001b[0;31mRuntimeError\u001b[0m: Found no NVIDIA driver on your system. Please check that you have an NVIDIA GPU and installed a driver from http://www.nvidia.com/Download/index.aspx"
     ]
    }
   ],
   "source": [
    "a_gpu = a.to('cuda')\n",
    "b_gpu = b.to('cuda')"
   ]
  },
  {
   "cell_type": "code",
   "execution_count": null,
   "metadata": {},
   "outputs": [],
   "source": [
    "%timeit c_gpu = a_gpu + b_gpu"
   ]
  },
  {
   "cell_type": "code",
   "execution_count": 41,
   "metadata": {},
   "outputs": [
    {
     "name": "stdout",
     "output_type": "stream",
     "text": [
      "Traceback (most recent call last):\n",
      "  File \"/bin/pip3\", line 11, in <module>\n",
      "    load_entry_point('pip==20.0.2', 'console_scripts', 'pip3')()\n",
      "  File \"/usr/local/lib/python3.8/dist-packages/pkg_resources/__init__.py\", line 534, in load_entry_point\n",
      "    return get_distribution(dist).load_entry_point(group, name)\n",
      "  File \"/usr/local/lib/python3.8/dist-packages/pkg_resources/__init__.py\", line 2930, in load_entry_point\n",
      "    return ep.load()\n",
      "  File \"/usr/local/lib/python3.8/dist-packages/pkg_resources/__init__.py\", line 2517, in load\n",
      "    return self.resolve()\n",
      "  File \"/usr/local/lib/python3.8/dist-packages/pkg_resources/__init__.py\", line 2523, in resolve\n",
      "    module = __import__(self.module_name, fromlist=['__name__'], level=0)\n",
      "  File \"/usr/lib/python3/dist-packages/pip/_internal/cli/main.py\", line 10, in <module>\n",
      "    from pip._internal.cli.autocompletion import autocomplete\n",
      "  File \"/usr/lib/python3/dist-packages/pip/_internal/cli/autocompletion.py\", line 9, in <module>\n",
      "    from pip._internal.cli.main_parser import create_main_parser\n",
      "  File \"/usr/lib/python3/dist-packages/pip/_internal/cli/main_parser.py\", line 7, in <module>\n",
      "    from pip._internal.cli import cmdoptions\n",
      "  File \"/usr/lib/python3/dist-packages/pip/_internal/cli/cmdoptions.py\", line 24, in <module>\n",
      "    from pip._internal.exceptions import CommandError\n",
      "  File \"/usr/lib/python3/dist-packages/pip/_internal/exceptions.py\", line 10, in <module>\n",
      "    from pip._vendor.six import iteritems\n",
      "  File \"/usr/lib/python3/dist-packages/pip/_vendor/__init__.py\", line 65, in <module>\n",
      "    vendored(\"cachecontrol\")\n",
      "  File \"/usr/lib/python3/dist-packages/pip/_vendor/__init__.py\", line 36, in vendored\n",
      "    __import__(modulename, globals(), locals(), level=0)\n",
      "  File \"<frozen importlib._bootstrap>\", line 991, in _find_and_load\n",
      "  File \"<frozen importlib._bootstrap>\", line 975, in _find_and_load_unlocked\n",
      "  File \"<frozen importlib._bootstrap>\", line 655, in _load_unlocked\n",
      "  File \"<frozen importlib._bootstrap>\", line 618, in _load_backward_compatible\n",
      "  File \"<frozen zipimport>\", line 259, in load_module\n",
      "  File \"/usr/share/python-wheels/CacheControl-0.12.6-py2.py3-none-any.whl/cachecontrol/__init__.py\", line 9, in <module>\n",
      "  File \"<frozen importlib._bootstrap>\", line 991, in _find_and_load\n",
      "  File \"<frozen importlib._bootstrap>\", line 975, in _find_and_load_unlocked\n",
      "  File \"<frozen importlib._bootstrap>\", line 655, in _load_unlocked\n",
      "  File \"<frozen importlib._bootstrap>\", line 618, in _load_backward_compatible\n",
      "  File \"<frozen zipimport>\", line 259, in load_module\n",
      "  File \"/usr/share/python-wheels/CacheControl-0.12.6-py2.py3-none-any.whl/cachecontrol/wrapper.py\", line 1, in <module>\n",
      "  File \"<frozen importlib._bootstrap>\", line 991, in _find_and_load\n",
      "  File \"<frozen importlib._bootstrap>\", line 975, in _find_and_load_unlocked\n",
      "  File \"<frozen importlib._bootstrap>\", line 655, in _load_unlocked\n",
      "  File \"<frozen importlib._bootstrap>\", line 618, in _load_backward_compatible\n",
      "  File \"<frozen zipimport>\", line 259, in load_module\n",
      "  File \"/usr/share/python-wheels/CacheControl-0.12.6-py2.py3-none-any.whl/cachecontrol/adapter.py\", line 5, in <module>\n",
      "  File \"<frozen importlib._bootstrap>\", line 991, in _find_and_load\n",
      "  File \"<frozen importlib._bootstrap>\", line 975, in _find_and_load_unlocked\n",
      "  File \"<frozen importlib._bootstrap>\", line 655, in _load_unlocked\n",
      "  File \"<frozen importlib._bootstrap>\", line 618, in _load_backward_compatible\n",
      "  File \"<frozen zipimport>\", line 259, in load_module\n",
      "  File \"/usr/share/python-wheels/requests-2.22.0-py2.py3-none-any.whl/requests/__init__.py\", line 95, in <module>\n",
      "  File \"<frozen importlib._bootstrap>\", line 991, in _find_and_load\n",
      "  File \"<frozen importlib._bootstrap>\", line 975, in _find_and_load_unlocked\n",
      "  File \"<frozen importlib._bootstrap>\", line 655, in _load_unlocked\n",
      "  File \"<frozen importlib._bootstrap>\", line 618, in _load_backward_compatible\n",
      "  File \"<frozen zipimport>\", line 259, in load_module\n",
      "  File \"/usr/share/python-wheels/urllib3-1.25.8-py2.py3-none-any.whl/urllib3/contrib/pyopenssl.py\", line 46, in <module>\n",
      "  File \"/usr/local/lib/python3.8/dist-packages/OpenSSL/__init__.py\", line 8, in <module>\n",
      "    from OpenSSL import SSL, crypto\n",
      "  File \"/usr/local/lib/python3.8/dist-packages/OpenSSL/SSL.py\", line 19, in <module>\n",
      "    from OpenSSL.crypto import (\n",
      "  File \"/usr/local/lib/python3.8/dist-packages/OpenSSL/crypto.py\", line 3253, in <module>\n",
      "    utils.deprecated(\n",
      "TypeError: deprecated() got an unexpected keyword argument 'name'\n",
      "Error in sys.excepthook:\n",
      "Traceback (most recent call last):\n",
      "  File \"/usr/lib/python3/dist-packages/apport_python_hook.py\", line 72, in apport_excepthook\n",
      "    from apport.fileutils import likely_packaged, get_recent_crashes\n",
      "  File \"/usr/lib/python3/dist-packages/apport/__init__.py\", line 5, in <module>\n",
      "    from apport.report import Report\n",
      "  File \"/usr/lib/python3/dist-packages/apport/report.py\", line 32, in <module>\n",
      "    import apport.fileutils\n",
      "  File \"/usr/lib/python3/dist-packages/apport/fileutils.py\", line 12, in <module>\n",
      "    import os, glob, subprocess, os.path, time, pwd, sys, requests_unixsocket\n",
      "  File \"/usr/lib/python3/dist-packages/requests_unixsocket/__init__.py\", line 1, in <module>\n",
      "    import requests\n",
      "  File \"<frozen importlib._bootstrap>\", line 991, in _find_and_load\n",
      "  File \"<frozen importlib._bootstrap>\", line 975, in _find_and_load_unlocked\n",
      "  File \"<frozen importlib._bootstrap>\", line 655, in _load_unlocked\n",
      "  File \"<frozen importlib._bootstrap>\", line 618, in _load_backward_compatible\n",
      "  File \"<frozen zipimport>\", line 259, in load_module\n",
      "  File \"/usr/share/python-wheels/requests-2.22.0-py2.py3-none-any.whl/requests/__init__.py\", line 95, in <module>\n",
      "  File \"<frozen importlib._bootstrap>\", line 991, in _find_and_load\n",
      "  File \"<frozen importlib._bootstrap>\", line 975, in _find_and_load_unlocked\n",
      "  File \"<frozen importlib._bootstrap>\", line 655, in _load_unlocked\n",
      "  File \"<frozen importlib._bootstrap>\", line 618, in _load_backward_compatible\n",
      "  File \"<frozen zipimport>\", line 259, in load_module\n",
      "  File \"/usr/share/python-wheels/urllib3-1.25.8-py2.py3-none-any.whl/urllib3/contrib/pyopenssl.py\", line 46, in <module>\n",
      "  File \"/usr/local/lib/python3.8/dist-packages/OpenSSL/__init__.py\", line 8, in <module>\n",
      "    from OpenSSL import SSL, crypto\n",
      "  File \"/usr/local/lib/python3.8/dist-packages/OpenSSL/SSL.py\", line 19, in <module>\n",
      "    from OpenSSL.crypto import (\n",
      "  File \"/usr/local/lib/python3.8/dist-packages/OpenSSL/crypto.py\", line 3253, in <module>\n",
      "    utils.deprecated(\n",
      "TypeError: deprecated() got an unexpected keyword argument 'name'\n",
      "\n",
      "Original exception was:\n",
      "Traceback (most recent call last):\n",
      "  File \"/bin/pip3\", line 11, in <module>\n",
      "    load_entry_point('pip==20.0.2', 'console_scripts', 'pip3')()\n",
      "  File \"/usr/local/lib/python3.8/dist-packages/pkg_resources/__init__.py\", line 534, in load_entry_point\n",
      "    return get_distribution(dist).load_entry_point(group, name)\n",
      "  File \"/usr/local/lib/python3.8/dist-packages/pkg_resources/__init__.py\", line 2930, in load_entry_point\n",
      "    return ep.load()\n",
      "  File \"/usr/local/lib/python3.8/dist-packages/pkg_resources/__init__.py\", line 2517, in load\n",
      "    return self.resolve()\n",
      "  File \"/usr/local/lib/python3.8/dist-packages/pkg_resources/__init__.py\", line 2523, in resolve\n",
      "    module = __import__(self.module_name, fromlist=['__name__'], level=0)\n",
      "  File \"/usr/lib/python3/dist-packages/pip/_internal/cli/main.py\", line 10, in <module>\n",
      "    from pip._internal.cli.autocompletion import autocomplete\n",
      "  File \"/usr/lib/python3/dist-packages/pip/_internal/cli/autocompletion.py\", line 9, in <module>\n",
      "    from pip._internal.cli.main_parser import create_main_parser\n",
      "  File \"/usr/lib/python3/dist-packages/pip/_internal/cli/main_parser.py\", line 7, in <module>\n",
      "    from pip._internal.cli import cmdoptions\n",
      "  File \"/usr/lib/python3/dist-packages/pip/_internal/cli/cmdoptions.py\", line 24, in <module>\n",
      "    from pip._internal.exceptions import CommandError\n",
      "  File \"/usr/lib/python3/dist-packages/pip/_internal/exceptions.py\", line 10, in <module>\n",
      "    from pip._vendor.six import iteritems\n",
      "  File \"/usr/lib/python3/dist-packages/pip/_vendor/__init__.py\", line 65, in <module>\n",
      "    vendored(\"cachecontrol\")\n",
      "  File \"/usr/lib/python3/dist-packages/pip/_vendor/__init__.py\", line 36, in vendored\n",
      "    __import__(modulename, globals(), locals(), level=0)\n",
      "  File \"<frozen importlib._bootstrap>\", line 991, in _find_and_load\n",
      "  File \"<frozen importlib._bootstrap>\", line 975, in _find_and_load_unlocked\n",
      "  File \"<frozen importlib._bootstrap>\", line 655, in _load_unlocked\n",
      "  File \"<frozen importlib._bootstrap>\", line 618, in _load_backward_compatible\n",
      "  File \"<frozen zipimport>\", line 259, in load_module\n",
      "  File \"/usr/share/python-wheels/CacheControl-0.12.6-py2.py3-none-any.whl/cachecontrol/__init__.py\", line 9, in <module>\n",
      "  File \"<frozen importlib._bootstrap>\", line 991, in _find_and_load\n",
      "  File \"<frozen importlib._bootstrap>\", line 975, in _find_and_load_unlocked\n",
      "  File \"<frozen importlib._bootstrap>\", line 655, in _load_unlocked\n",
      "  File \"<frozen importlib._bootstrap>\", line 618, in _load_backward_compatible\n",
      "  File \"<frozen zipimport>\", line 259, in load_module\n",
      "  File \"/usr/share/python-wheels/CacheControl-0.12.6-py2.py3-none-any.whl/cachecontrol/wrapper.py\", line 1, in <module>\n",
      "  File \"<frozen importlib._bootstrap>\", line 991, in _find_and_load\n",
      "  File \"<frozen importlib._bootstrap>\", line 975, in _find_and_load_unlocked\n",
      "  File \"<frozen importlib._bootstrap>\", line 655, in _load_unlocked\n",
      "  File \"<frozen importlib._bootstrap>\", line 618, in _load_backward_compatible\n",
      "  File \"<frozen zipimport>\", line 259, in load_module\n",
      "  File \"/usr/share/python-wheels/CacheControl-0.12.6-py2.py3-none-any.whl/cachecontrol/adapter.py\", line 5, in <module>\n",
      "  File \"<frozen importlib._bootstrap>\", line 991, in _find_and_load\n",
      "  File \"<frozen importlib._bootstrap>\", line 975, in _find_and_load_unlocked\n",
      "  File \"<frozen importlib._bootstrap>\", line 655, in _load_unlocked\n",
      "  File \"<frozen importlib._bootstrap>\", line 618, in _load_backward_compatible\n",
      "  File \"<frozen zipimport>\", line 259, in load_module\n",
      "  File \"/usr/share/python-wheels/requests-2.22.0-py2.py3-none-any.whl/requests/__init__.py\", line 95, in <module>\n",
      "  File \"<frozen importlib._bootstrap>\", line 991, in _find_and_load\n",
      "  File \"<frozen importlib._bootstrap>\", line 975, in _find_and_load_unlocked\n",
      "  File \"<frozen importlib._bootstrap>\", line 655, in _load_unlocked\n",
      "  File \"<frozen importlib._bootstrap>\", line 618, in _load_backward_compatible\n",
      "  File \"<frozen zipimport>\", line 259, in load_module\n",
      "  File \"/usr/share/python-wheels/urllib3-1.25.8-py2.py3-none-any.whl/urllib3/contrib/pyopenssl.py\", line 46, in <module>\n",
      "  File \"/usr/local/lib/python3.8/dist-packages/OpenSSL/__init__.py\", line 8, in <module>\n",
      "    from OpenSSL import SSL, crypto\n",
      "  File \"/usr/local/lib/python3.8/dist-packages/OpenSSL/SSL.py\", line 19, in <module>\n",
      "    from OpenSSL.crypto import (\n",
      "  File \"/usr/local/lib/python3.8/dist-packages/OpenSSL/crypto.py\", line 3253, in <module>\n",
      "    utils.deprecated(\n",
      "TypeError: deprecated() got an unexpected keyword argument 'name'\n"
     ]
    }
   ],
   "source": [
    "!pip3 cuda 12.6 install"
   ]
  },
  {
   "cell_type": "code",
   "execution_count": 43,
   "metadata": {},
   "outputs": [
    {
     "name": "stdout",
     "output_type": "stream",
     "text": [
      "/bin/bash: nvidia-smi: command not found\n"
     ]
    }
   ],
   "source": [
    "!nvidia-smi"
   ]
  },
  {
   "cell_type": "code",
   "execution_count": null,
   "metadata": {},
   "outputs": [],
   "source": []
  }
 ],
 "metadata": {
  "kernelspec": {
   "display_name": "Python 3",
   "language": "python",
   "name": "python3"
  },
  "language_info": {
   "codemirror_mode": {
    "name": "ipython",
    "version": 3
   },
   "file_extension": ".py",
   "mimetype": "text/x-python",
   "name": "python",
   "nbconvert_exporter": "python",
   "pygments_lexer": "ipython3",
   "version": "3.8.10"
  },
  "orig_nbformat": 4
 },
 "nbformat": 4,
 "nbformat_minor": 2
}
